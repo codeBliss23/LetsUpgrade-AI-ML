{
 "cells": [
  {
   "cell_type": "code",
   "execution_count": 3,
   "metadata": {},
   "outputs": [
    {
     "name": "stdout",
     "output_type": "stream",
     "text": [
      "Result after subtraction of two complex numbers is (2+22j)\n"
     ]
    }
   ],
   "source": [
    "#Assignment for Day 3 of AI/ML Program, July 2020\n",
    "\n",
    "#QUESTION_1\n",
    "#Write a program to subtract two complex numbers in Python.\n",
    "\n",
    "a=5+32j\n",
    "b=3+10j\n",
    "c=a-b\n",
    "print(\"Result after subtraction of two complex numbers is\", c)"
   ]
  },
  {
   "cell_type": "code",
   "execution_count": 4,
   "metadata": {},
   "outputs": [
    {
     "name": "stdout",
     "output_type": "stream",
     "text": [
      "2.0\n"
     ]
    }
   ],
   "source": [
    "#QUESTION_2\n",
    "#Write a program to find the fourth root of a number.\n",
    "\n",
    "a=16\n",
    "print(a**0.25)"
   ]
  },
  {
   "cell_type": "code",
   "execution_count": 5,
   "metadata": {},
   "outputs": [
    {
     "name": "stdout",
     "output_type": "stream",
     "text": [
      "x = 10\n",
      "y = 5\n"
     ]
    }
   ],
   "source": [
    "#QUESTION_3\n",
    "#Write a program to swap two numbers in Python with the help of a temporary variable\n",
    "\n",
    "x = 5\n",
    "y = 10\n",
    "\n",
    "x, y = y, x\n",
    "print(\"x =\", x)\n",
    "print(\"y =\", y)"
   ]
  },
  {
   "cell_type": "code",
   "execution_count": 6,
   "metadata": {},
   "outputs": [
    {
     "name": "stdout",
     "output_type": "stream",
     "text": [
      "The value of x after swapping: 10\n",
      "The value of x after swapping: 5\n"
     ]
    }
   ],
   "source": [
    "#QUESTION_4\n",
    "#Write a program to swap two numbers in Python without using a temporary variable\n",
    "\n",
    "x = 5\n",
    "y = 10\n",
    "\n",
    "#temporary variable to swap the values\n",
    "temp = x\n",
    "x = y\n",
    "y = temp\n",
    "\n",
    "print(\"The value of x after swapping:\", x)\n",
    "print(\"The value of x after swapping:\", y)"
   ]
  },
  {
   "cell_type": "code",
   "execution_count": 8,
   "metadata": {},
   "outputs": [
    {
     "name": "stdout",
     "output_type": "stream",
     "text": [
      "Fahrenheit temperature to be converted: 68\n",
      "Converted Kelvin Temperature: 293.15\n",
      "Converted Celcius Temperature: 20.0\n"
     ]
    }
   ],
   "source": [
    "#QUESTION_5\n",
    "#Write a program to convert fahrenheit to kelvin and celsius both.\n",
    "\n",
    "f=68 \n",
    "print(\"Fahrenheit temperature to be converted:\", f)\n",
    "\n",
    "#Kelvin Formula\n",
    "#Celcius Formula\n",
    "\n",
    "k = (5/9*(f - 32) + 273.15)\n",
    "c = (f - 32) * 5/9\n",
    "\n",
    "print(\"Converted Kelvin Temperature:\", k) \n",
    "print(\"Converted Celcius Temperature:\", c) "
   ]
  },
  {
   "cell_type": "code",
   "execution_count": 9,
   "metadata": {},
   "outputs": [
    {
     "name": "stdout",
     "output_type": "stream",
     "text": [
      "x is: <class 'str'>\n",
      "y is: <class 'int'>\n",
      "z is: <class 'float'>\n",
      "a is: <class 'complex'>\n",
      "b is: <class 'list'>\n",
      "c is: <class 'tuple'>\n",
      "d is: <class 'range'>\n",
      "e is: <class 'dict'>\n",
      "f is: <class 'set'>\n",
      "g is: <class 'frozenset'>\n",
      "h is: <class 'bool'>\n",
      "i is: <class 'bytes'>\n",
      "j is: <class 'bytearray'>\n",
      "k is: <class 'memoryview'>\n"
     ]
    }
   ],
   "source": [
    "#QUESTION_6\n",
    "#Write a program to demonstrate all the available data types in Python. Hint: Use type() function.\n",
    "\n",
    "x = \"Hello World\"\t\t\n",
    "print(\"x is:\", type(x))\n",
    "\n",
    "y = 20\t\n",
    "print(\"y is:\", type(y))\n",
    "\n",
    "z = 20.5\t\t\n",
    "print(\"z is:\", type(z))\n",
    "\n",
    "a= 1j\t\t\n",
    "print(\"a is:\", type(a))\n",
    "\n",
    "b = [\"Sarthak\", \"Kumar\", \"Das\"]\t\t\n",
    "print(\"b is:\", type(b))\n",
    "\n",
    "c = (\"Sarthak\", \"Kumar\", \"Das\")\t\t\n",
    "print(\"c is:\", type(c))\n",
    "\n",
    "d = range(6)\n",
    "print(\"d is:\", type(d))\n",
    "\n",
    "e = {\"name\" : \"Sarthak\", \"Age\" : 19}\t\n",
    "print(\"e is:\", type(e))\n",
    "\n",
    "f = {\"Lets\", \"Upgrade\", \"Student\"}\t\n",
    "print(\"f is:\", type(f))\n",
    "\n",
    "g = frozenset({\"Sarthak\", \"Kumar\", \"Das\"})\t\n",
    "print(\"g is:\", type(g))\n",
    "\n",
    "h = True\t\n",
    "print(\"h is:\", type(h))\n",
    "\n",
    "i = b\"Hello\"\t\n",
    "print(\"i is:\", type(i))\n",
    "\n",
    "j = bytearray(5)\n",
    "print(\"j is:\", type(j))\n",
    "\n",
    "k = memoryview(bytes(5))\n",
    "print(\"k is:\", type(k))"
   ]
  },
  {
   "cell_type": "markdown",
   "metadata": {},
   "source": [
    "___Question 7___\n",
    "\n",
    "__Create a Markdown cell in jupyter and list the steps discussed in the session by Dr. Darshan\n",
    "Ingle sir to create Github profile and upload Githubs Assignment link.__\n",
    "\n",
    "\n",
    "# THE STEPS\n",
    "\n",
    "## 1. Go To Github official page and sign up with necessary details to create your account.\n",
    "\n",
    "## 2. Answer the questions asked then click on \"COMPLETE SETUP\" dialogue box present below the same page.\n",
    "\n",
    "## 3. Go to your profile by clicking on the profile icon present in the right most corner of the page and look for the repositories dialogue box henceforth.\n",
    "\n",
    "## 4. Click on the repository dialogue box and thus click on the new box to create a new repository.\n",
    "\n",
    "## 5. Give the repository name as \"LetsUpgrade AI-ML\" and description as \"Assignments.\"\n",
    "\n",
    "## 6. Click on the create repository dialogue box and then click on the \"upload existing file.\"\n",
    "\n",
    "## 7. Drag the needful file from your computer's saved location named as \"Day 'number' \", for say \"Day 3\" and drop it in the upload existing file page opened earlier and click on \"Commit changes.\"\n",
    "\n",
    "## 8. Now copy the URL link and move to LetsUpgrade recorded lecture section and find the link to submission form under the link section.\n",
    "\n",
    "## 9. Enter the form and fill up the formalities and hence paste the Github's URL link at the end.\n",
    "\n",
    "## 10. Press submit.\n"
   ]
  },
  {
   "cell_type": "code",
   "execution_count": 1,
   "metadata": {},
   "outputs": [
    {
     "data": {
      "text/plain": [
       "'C:\\\\Users\\\\Acer'"
      ]
     },
     "execution_count": 1,
     "metadata": {},
     "output_type": "execute_result"
    }
   ],
   "source": [
    "import os\n",
    "os.getcwd()"
   ]
  },
  {
   "cell_type": "code",
   "execution_count": null,
   "metadata": {},
   "outputs": [],
   "source": []
  }
 ],
 "metadata": {
  "kernelspec": {
   "display_name": "Python 3",
   "language": "python",
   "name": "python3"
  },
  "language_info": {
   "codemirror_mode": {
    "name": "ipython",
    "version": 3
   },
   "file_extension": ".py",
   "mimetype": "text/x-python",
   "name": "python",
   "nbconvert_exporter": "python",
   "pygments_lexer": "ipython3",
   "version": "3.7.4"
  }
 },
 "nbformat": 4,
 "nbformat_minor": 2
}
