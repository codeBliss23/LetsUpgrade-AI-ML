{
 "cells": [
  {
   "cell_type": "markdown",
   "metadata": {},
   "source": [
    "__Assignment Day 6 | 14th July 2020__\n",
    "Sarthak Kumar Das"
   ]
  },
  {
   "cell_type": "code",
   "execution_count": 3,
   "metadata": {},
   "outputs": [
    {
     "name": "stdout",
     "output_type": "stream",
     "text": [
      "Email id:sarthakkdas@letsupgrade.com\n",
      "letsupgrade\n"
     ]
    }
   ],
   "source": [
    "#Question 1: \n",
    "#Assuming that we have some email addresses in the \"username@companyname.com\" format, please write program to print \n",
    "#the company name of a given email address. \n",
    "#Both user names and company names are composed of letters only. \n",
    " \n",
    "#Input Format: The first line of the input contains an email address. \n",
    "#Output Format: Print the company name in single line. \n",
    "#Example; \n",
    "         #Input: john@google.com \n",
    "         #Output: google\n",
    "        \n",
    "s= str(input(\"Email id:\" ))\n",
    "\n",
    "i=s.find('@')\n",
    "l=s.find('.')\n",
    "\n",
    "print(s[i+1:l])\n",
    "\n"
   ]
  },
  {
   "cell_type": "code",
   "execution_count": 3,
   "metadata": {},
   "outputs": [
    {
     "name": "stdout",
     "output_type": "stream",
     "text": [
      "['boy', 'cat', 'apple', 'zebra', 'horse', 'rihno', 'dog', 'sound']\n",
      "['apple', 'boy', 'cat', 'dog', 'horse', 'rihno', 'sound', 'zebra']\n",
      "\n",
      "---------#OR---------\n",
      "\n",
      "Enter words: animal,dog,cow,pig,cat,zebra,bison,yak,cobra\n",
      "Sorted words: animal,bison,cat,cobra,cow,dog,pig,yak,zebra\n"
     ]
    }
   ],
   "source": [
    "#Question 2: \n",
    "#Write a program that accepts a comma-separated sequence of words as input \n",
    "#and prints the words in a comma separated sequence after sorting them alphabetically. \n",
    " \n",
    "#Input Format: The first line of input contains words separated by the comma. \n",
    "#Output Format: Print the sorted words separated by the comma. \n",
    "\n",
    "#Example: \n",
    "#Input: without,hello,bag,world \n",
    "#Output: bag,hello,without,world \n",
    "\n",
    "l=['boy','cat','apple','zebra','horse','rihno','dog','sound']\n",
    "print(l)\n",
    "l.sort()\n",
    "print(l)\n",
    "print()\n",
    "print(\"---------#OR---------\")\n",
    "print()\n",
    "objects=input(\"Enter words: \")\n",
    "words=list(map(lambda x: x,objects.split(',')))\n",
    "words.sort()\n",
    "print(\"Sorted words:\", ',' .join(words))"
   ]
  },
  {
   "cell_type": "code",
   "execution_count": 11,
   "metadata": {},
   "outputs": [
    {
     "name": "stdout",
     "output_type": "stream",
     "text": [
      "{96, 34, 98, 67, 90, 12, 78, 52, 55, 22, 23, 56, 89, 58}\n",
      "{89, 34, 67, 98, 38, 45, 46, 15, 47, 23, 87, 57, 26, 59, 93}\n",
      "None\n",
      "{96, 34, 98, 67, 90, 12, 77, 78, 52, 55, 22, 23, 56, 89, 58}\n",
      "{38, 45, 46, 47, 15, 87, 57, 26, 59, 93}\n",
      "None\n",
      "None\n",
      "set()\n",
      "None\n",
      "True\n",
      "True\n",
      "False\n",
      "{89, 34, 67, 98, 38, 45, 46, 15, 47, 23, 87, 57, 26, 59, 93}\n",
      "None\n",
      "{67, 15, 87, 23, 89, 26, 93, 34, 98, 38, 45, 46, 47, 57, 59}\n",
      "None\n",
      "None\n"
     ]
    }
   ],
   "source": [
    "##### Question 3: Create your own Jupyter Notebook for Sets. \n",
    "##### Reference link: https://www.w3schools.com/python/python_sets.asp \n",
    "\n",
    "## PYTHON SETS ##\n",
    "\n",
    "set1={22,34,56,12,23,58,78,89,90,98,96,52,67,78,55}\n",
    "set2={34,46,57,87,93,45,67,89,23,38,98,59,15,26,47}\n",
    "print(set1)\n",
    "print(set2)\n",
    "\n",
    "print(set1.add(77)) #Adds an element to the set\n",
    "print(set1.copy()) #Returns a copy of the set\n",
    "print(set2.difference(set1)) #Returns a set containing the difference between two or more sets\n",
    "print(set1.difference_update(set2)) #Removes the items in this set that are also included in another, specified set\n",
    "print(set1.discard(98)) #Remove the specified item\n",
    "print(set1.intersection(set2)) #Returns a set, that is the intersection of two other sets\n",
    "print(set1.intersection_update(set2)) #Removes the items in this set that are not present in other, specified set(s)\n",
    "print(set1.isdisjoint(set2)) #Returns whether two sets have a intersection or not\n",
    "print(set1.issubset(set2)) #Returns whether another set contains this set or not\n",
    "print(set1.issuperset(set2)) #Returns whether this set contains another set or not\n",
    "print(set1.symmetric_difference(set2)) #Returns a set with the symmetric differences of two sets\n",
    "print(set1.symmetric_difference_update(set2)) #inserts the symmetric differences from this set and another\n",
    "print(set1.union(set2)) #Return a set containing the union of sets\n",
    "print(set1.update(set2)) #Update the set with the union of this set and others\n",
    "print(set1.clear()) #Removes all the elements from the set\n",
    "\n"
   ]
  },
  {
   "cell_type": "code",
   "execution_count": 14,
   "metadata": {},
   "outputs": [
    {
     "name": "stdout",
     "output_type": "stream",
     "text": [
      "Enter numbers seperated by space : 1 3 5 4 6 7 8\n",
      "Missing number is : 2\n"
     ]
    }
   ],
   "source": [
    "#Question 4:  \n",
    "#Given a list of n-1 numbers ranging from 1 to n, your task is to find the missing number. \n",
    "#There are no duplicates. \n",
    " \n",
    "#Input Format: The first line contains n-1 numbers with each number separated by a space. \n",
    "#Output Format: Print the missing number \n",
    "#Example: Input:1 2 4 6 3 7 8 Output:5\n",
    "\n",
    "num=input(\"Enter numbers seperated by space : \").split(\" \")\n",
    "n=len(num)\n",
    "for i in range(0,n):\n",
    "    num[i]=int(num[i])\n",
    "n=n+1\n",
    "for i in range(1,n+1):\n",
    "    if i in num :\n",
    "        continue\n",
    "    else:\n",
    "        print(\"Missing number is :\",i)\n",
    "\n"
   ]
  },
  {
   "cell_type": "code",
   "execution_count": null,
   "metadata": {},
   "outputs": [],
   "source": [
    "#Question 5: \n",
    "#With a given list L, write a program to print this list L after removing all duplicate values \n",
    "#with original order reserved\n",
    "\n",
    "mylist = ['12','24','35','24','88','120','155','88','120','155' ]\n",
    "mylist = list(dict.fromkeys(mylist))\n",
    "print(mylist)\n",
    "mylist.reverse()\n",
    "print(mylist)"
   ]
  },
  {
   "cell_type": "code",
   "execution_count": 11,
   "metadata": {},
   "outputs": [
    {
     "name": "stdout",
     "output_type": "stream",
     "text": [
      "Enter numbers: 12 23 23 23 10 10 7 144 120 250 400 333 333\n",
      "Sorted numbers: 10 10 12 120 144 23 23 23 250 333 333 400 7\n",
      "['10', '12', '120', '144', '23', '250', '333', '400', '7']\n",
      "['7', '400', '333', '250', '23', '144', '120', '12', '10']\n"
     ]
    }
   ],
   "source": [
    "objects=input(\"Enter numbers: \")\n",
    "numbers=list(map(lambda x: x,objects.split(' ')))\n",
    "numbers.sort()\n",
    "print(\"Sorted numbers:\", ' ' .join(numbers))\n",
    "numbers= list(dict.fromkeys(numbers))\n",
    "print(numbers)\n",
    "numbers.reverse()\n",
    "print(numbers)"
   ]
  },
  {
   "cell_type": "code",
   "execution_count": null,
   "metadata": {},
   "outputs": [],
   "source": []
  }
 ],
 "metadata": {
  "kernelspec": {
   "display_name": "Python 3",
   "language": "python",
   "name": "python3"
  },
  "language_info": {
   "codemirror_mode": {
    "name": "ipython",
    "version": 3
   },
   "file_extension": ".py",
   "mimetype": "text/x-python",
   "name": "python",
   "nbconvert_exporter": "python",
   "pygments_lexer": "ipython3",
   "version": "3.7.6"
  }
 },
 "nbformat": 4,
 "nbformat_minor": 4
}
