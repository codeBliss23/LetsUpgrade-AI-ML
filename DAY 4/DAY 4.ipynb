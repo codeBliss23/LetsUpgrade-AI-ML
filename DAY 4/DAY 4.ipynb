{
 "cells": [
  {
   "cell_type": "markdown",
   "metadata": {},
   "source": [
    "__Assignment Day 4 | 9th July 2020__\n",
    "\n",
    "Sarthak Kumar Das\n",
    "AI/ML July 2020"
   ]
  },
  {
   "cell_type": "code",
   "execution_count": 1,
   "metadata": {},
   "outputs": [
    {
     "name": "stdout",
     "output_type": "stream",
     "text": [
      "Addition of two complex numbers :  (7-4j)\n",
      "Subtraction of two complex numbers :  (1+10j)\n",
      "Multiplication of two complex numbers :  (33-19j)\n",
      "Division of two complex numbers :  (-0.15517241379310348+0.6379310344827587j)\n"
     ]
    }
   ],
   "source": [
    "#Question 1 : \n",
    "#Research on whether addition, subtraction, multiplication, division, floor division and modulo operations \n",
    "#be performed on complex numbers. Based on your study, implement a Python program to demonstrate these operations.\n",
    "\n",
    "# OPERATIONS WITH COMPLEX NUMBERS IN PYTHON #\n",
    "\n",
    "\"Addition and subtraction of complex numbers is similar to that of integers or floats.\" \n",
    "\"Real and imaginary parts are added / subtracted separately.\"\n",
    "\n",
    "\"For multiplication we consider complex number\" \n",
    "\"as a binomial and multiply each term in the first number by each term in the second number.\"\n",
    "\n",
    "print(\"Addition of two complex numbers : \",(4+3j)+(3-7j))\n",
    "print(\"Subtraction of two complex numbers : \",(4+3j)-(3-7j))\n",
    "print(\"Multiplication of two complex numbers : \",(4+3j)*(3-7j))\n",
    "print(\"Division of two complex numbers : \",(4+3j)/(3-7j))\n"
   ]
  },
  {
   "cell_type": "code",
   "execution_count": 2,
   "metadata": {},
   "outputs": [
    {
     "ename": "SyntaxError",
     "evalue": "EOL while scanning string literal (<ipython-input-2-3b0d5a23bc9e>, line 3)",
     "output_type": "error",
     "traceback": [
      "\u001b[1;36m  File \u001b[1;32m\"<ipython-input-2-3b0d5a23bc9e>\"\u001b[1;36m, line \u001b[1;32m3\u001b[0m\n\u001b[1;33m    \"Floor and modulus operators (// and % respectively) are not allowed to be used on complex number in Python 3.x.\u001b[0m\n\u001b[1;37m                                                                                                                     ^\u001b[0m\n\u001b[1;31mSyntaxError\u001b[0m\u001b[1;31m:\u001b[0m EOL while scanning string literal\n"
     ]
    }
   ],
   "source": [
    "#Question 1 : (Repeated to show modulo and floor division operations)\n",
    "\n",
    "\"Floor and modulus operators (// and % respectively) are not allowed to be used on complex number in Python 3.x. \n",
    "\"However, these operations are defined for complex numbers in Python 2.7.x\"\n",
    "\"Hence we will find errors implementing modulo or floor division operations with complex numbers.\"\n",
    "\n",
    "x=9+2j\n",
    "y=2+1j\n",
    "x%y # Will show error( MODULO OPERATOR )\n",
    "x//y # Will show error( FLOOR DIVISION OPERATOR )"
   ]
  },
  {
   "cell_type": "markdown",
   "metadata": {},
   "source": [
    "#QUESTION 2\n",
    "#Research on range() functions and its parameters. \n",
    "#Create a markdown cell and write in your own words (no copy-paste from google please) what you understand about it. \n",
    "#Implement a small program of your choice on the same. \n",
    "\n",
    "__RANGE FUNCTION: range()__\n",
    "\n",
    "1. The syntax for range function is: range(n) where n is an integer.\n",
    "2. range() for performing loops primarily.\n",
    "3. It helps in running a loop from a starting number to one less than the number mentioned inside the parentheses.\n",
    "\n",
    "## EXAMPLE EXPLAINED\n",
    "\n",
    "Let's take 'n' as an integer where range(n) is the function.\n",
    "\n",
    "In this case, the range fuction will run a loop (n-1) times starting from 0 or -1 depending on the type of indexing we want to apply. There are two kinds of indexing namely,\n",
    "                                             1. Forward Indexing : Starts from 0 and continues till (n-1)th number of loops.\n",
    "                                             2. Backward Indexing : Starts from -1 and continues till (n-1)th number of loops.\n",
    "\n",
    "__VARIETY__\n",
    "\n",
    "1. range(parameter)\n",
    "2. range(Start Index,End Index)\n",
    "3. range(Start Index,End Index,Step Size)\n",
    "\n",
    "\n",
    "#### REFER THE BELOW CELL FOR ACTUAL PROGRAMMING IMPLEMENTATION###"
   ]
  },
  {
   "cell_type": "code",
   "execution_count": 5,
   "metadata": {},
   "outputs": [
    {
     "name": "stdout",
     "output_type": "stream",
     "text": [
      "Python range() example\n",
      "0\n",
      "1\n",
      "2\n",
      "3\n",
      "4\n",
      "5\n"
     ]
    }
   ],
   "source": [
    "#QUESTION 2 : CONTINUATION\n",
    "\n",
    "print(\"Python range() example\")\n",
    "\n",
    "for i in range(6):\n",
    "    print(i) #Will print from 0 to 5. Here i highest value is 5 ie 6-1=5.\n",
    "    \n",
    "    ##REFER OUTPUT FOR BETTER CLARITY##\n",
    "    "
   ]
  },
  {
   "cell_type": "code",
   "execution_count": 12,
   "metadata": {},
   "outputs": [
    {
     "data": {
      "text/plain": [
       "[0, 1, 2, 3]"
      ]
     },
     "execution_count": 12,
     "metadata": {},
     "output_type": "execute_result"
    }
   ],
   "source": [
    "list(range(0,4))       #Will print numbers in index from 0 to 3(ie 4-1) only."
   ]
  },
  {
   "cell_type": "code",
   "execution_count": 13,
   "metadata": {},
   "outputs": [
    {
     "data": {
      "text/plain": [
       "[0, 2, 4, 6, 8]"
      ]
     },
     "execution_count": 13,
     "metadata": {},
     "output_type": "execute_result"
    }
   ],
   "source": [
    "list(range(0,10,2))    #Will print numbers in index from 0 to 9 leaving every alternate numbers unprinted."
   ]
  },
  {
   "cell_type": "code",
   "execution_count": 16,
   "metadata": {},
   "outputs": [
    {
     "name": "stdout",
     "output_type": "stream",
     "text": [
      "Product of a and b is: 75000\n"
     ]
    }
   ],
   "source": [
    "#QUESTION 3\n",
    "# Consider two numbers. Perform their subtraction and if the result of subtraction is greater than 25,\n",
    "#print their multiplication result else print their division result. \n",
    "\n",
    "a=300\n",
    "b=250\n",
    "c=a-b\n",
    "\n",
    "if c>25:\n",
    "    print(\"Product of a and b is:\", a*b)\n",
    "else:\n",
    "    print(\"Division result of a and b is:\", a/b)\n",
    "    "
   ]
  },
  {
   "cell_type": "code",
   "execution_count": 44,
   "metadata": {},
   "outputs": [
    {
     "name": "stdout",
     "output_type": "stream",
     "text": [
      "40 square of that number minus 2 is: 1598\n",
      "78 square of that number minus 2 is: 6082\n",
      "76 square of that number minus 2 is: 5774\n",
      "56 square of that number minus 2 is: 3134\n",
      "26 square of that number minus 2 is: 674\n",
      "22 square of that number minus 2 is: 482\n"
     ]
    }
   ],
   "source": [
    "#QUESTION 4\n",
    "#Consider a list of 10 elements of integer values. \n",
    "#If the number in the list is divisible by 2, print the result as \"square of that number minus 2\". \n",
    "\n",
    "list= [40,43,78,76,56,23,89,21,26,22]\n",
    "\n",
    "for i in list:\n",
    "    if(i%2 ==0):\n",
    "        print( i ,\"square of that number minus 2 is:\", i**2-2)\n",
    "        \n",
    "    \n",
    "            \n",
    "          \n",
    "      \n",
    "\n",
    "\n",
    "\n",
    "\n",
    "    \n"
   ]
  },
  {
   "cell_type": "code",
   "execution_count": 50,
   "metadata": {},
   "outputs": [
    {
     "name": "stdout",
     "output_type": "stream",
     "text": [
      "24\n",
      "56\n",
      "98\n",
      "86\n",
      "44\n"
     ]
    }
   ],
   "source": [
    "#QUESTION 5\n",
    "\n",
    "#Consider a list of 10 elements. \n",
    "#Print all the elements in the list which are greater than 7 when that number is divided 2. \n",
    "\n",
    "list = [24,23,56,67,89,98,77,86,47,44] \n",
    "       \n",
    "for i in list: \n",
    "    if((i%2 ==0) and (i/2 > 7)): \n",
    "        print(i)\n"
   ]
  },
  {
   "cell_type": "code",
   "execution_count": null,
   "metadata": {},
   "outputs": [],
   "source": []
  },
  {
   "cell_type": "code",
   "execution_count": null,
   "metadata": {},
   "outputs": [],
   "source": []
  }
 ],
 "metadata": {
  "kernelspec": {
   "display_name": "Python 3",
   "language": "python",
   "name": "python3"
  },
  "language_info": {
   "codemirror_mode": {
    "name": "ipython",
    "version": 3
   },
   "file_extension": ".py",
   "mimetype": "text/x-python",
   "name": "python",
   "nbconvert_exporter": "python",
   "pygments_lexer": "ipython3",
   "version": "3.7.6"
  }
 },
 "nbformat": 4,
 "nbformat_minor": 4
}
