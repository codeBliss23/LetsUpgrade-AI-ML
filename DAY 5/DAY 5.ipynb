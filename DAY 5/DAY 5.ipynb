{
 "cells": [
  {
   "cell_type": "markdown",
   "metadata": {},
   "source": [
    "__Assignment Day 5 | 10th July 2020__\n",
    "Sarthak Kumar Das"
   ]
  },
  {
   "cell_type": "code",
   "execution_count": 1,
   "metadata": {},
   "outputs": [
    {
     "name": "stdout",
     "output_type": "stream",
     "text": [
      "[3, 5, 7, 11, 13, 17, 19, 23, 29, 31, 37, 41, 43, 47, 53, 59, 61, 67, 71, 73]\n"
     ]
    }
   ],
   "source": [
    "#Question 1 \n",
    "#Write a Python program to find the first 20 non-even prime natural numbers.\n",
    "\n",
    "prime =[]\n",
    "n =1\n",
    "\n",
    "while (len(prime) < 20):\n",
    "    d = []\n",
    "   \n",
    "    for i in range(1,n+1):\n",
    "        if (n%i == 0):\n",
    "            d.append(i)\n",
    "\n",
    "    if (len(d) == 2 and n%2 !=0):\n",
    "        prime.append(n)\n",
    "        \n",
    "    d.clear()   \n",
    "    n = n + 1\n",
    "\n",
    "print(prime)"
   ]
  },
  {
   "cell_type": "code",
   "execution_count": 8,
   "metadata": {},
   "outputs": [
    {
     "name": "stdout",
     "output_type": "stream",
     "text": [
      "LetsUpgrade is amazing. I am a student there.\n",
      "\n",
      "LETSUPGRADE IS AMAZING. I AM A STUDENT THERE.\n",
      "15\n",
      "1\n",
      "Letsupgrade is amazing. i am a student there.\n",
      "LetsUpgrade is awesome. I am a student there.\n",
      "False\n",
      "['LetsUpgrade', 'is', 'amazing.', 'I', 'am', 'a', 'student', 'there.']\n",
      "LetsUpgrade is amazing. I am a pupil there.\n",
      "True\n",
      "False\n",
      "letsupgrade is amazing. i am a student there.\n",
      "                                                                                                LetsUpgrade is amazing. I am a student there.                                                                                                \n",
      "lETSuPGRADE IS AMAZING. i AM A STUDENT THERE.\n",
      "False\n"
     ]
    }
   ],
   "source": [
    "#Question 2\n",
    "#Write a Python program to implement 15 functions of string. \n",
    "\n",
    "string='LetsUpgrade is amazing. I am a student there.'\n",
    "print(string)\n",
    "print()\n",
    "#THE_15_FUNCTIONS\n",
    "\n",
    "print(string.upper())\n",
    "print(string.find(\"amazing\"))\n",
    "print(string.count('is'))\n",
    "print(string.capitalize())\n",
    "print(string.replace(\"amazing\",\"awesome\"))\n",
    "print(string.isalpha())\n",
    "print(string.split())\n",
    "print(string.replace('student','pupil'))\n",
    "print(string.isprintable())\n",
    "print(string.isnumeric())\n",
    "print(string.lower())\n",
    "print(string.center(237))\n",
    "print(string.swapcase())\n",
    "print(string.endswith('here'))\n"
   ]
  },
  {
   "cell_type": "code",
   "execution_count": 2,
   "metadata": {},
   "outputs": [
    {
     "name": "stdout",
     "output_type": "stream",
     "text": [
      "Yes palindrome and can be anangram if the resulted string is treated as a separate string and compared to string a.\n"
     ]
    }
   ],
   "source": [
    "#Question 3:\n",
    "#Write a Python program to check if the given string is a Palindrome or Anagram or None of them. \n",
    "#Display the message accordingly to the user.\n",
    "\n",
    "def checkPalindrome(a): \n",
    "    return a == a[::-1] \n",
    "  \n",
    "a = \"mom\"\n",
    "rev = checkPalindrome(a) \n",
    "  \n",
    "if rev: \n",
    "    print(\"Yes Palindrome and can be Anangram if the resulted string is treated as a separate string and compared to string a.\") \n",
    "else: \n",
    "    print(\"No, none of Palindromr or anagram.\")"
   ]
  },
  {
   "cell_type": "code",
   "execution_count": 6,
   "metadata": {},
   "outputs": [
    {
     "name": "stdout",
     "output_type": "stream",
     "text": [
      "Enter string: SarthaK Kumar!@#$%^&* DAS123\n",
      "sarthakkumardas\n"
     ]
    }
   ],
   "source": [
    "#Question 4:\n",
    "#Write a Python's user defined function that removes all the additional characters from the string \n",
    "#and converts it finally to lower case using built-in lower(). \n",
    "#eg: If the string is \"Dr. Darshan Ingle @AI-ML Trainer\", then the output be \"drdarshaningleaimltrainer\". \n",
    "\n",
    "string = input(\"Enter string: \")\n",
    "alphabetic = \"\"\n",
    "\n",
    "for char in string:\n",
    "    if char.isalpha():\n",
    "        alphabetic += char\n",
    "print(alphabetic.lower())"
   ]
  }
 ],
 "metadata": {
  "kernelspec": {
   "display_name": "Python 3",
   "language": "python",
   "name": "python3"
  },
  "language_info": {
   "codemirror_mode": {
    "name": "ipython",
    "version": 3
   },
   "file_extension": ".py",
   "mimetype": "text/x-python",
   "name": "python",
   "nbconvert_exporter": "python",
   "pygments_lexer": "ipython3",
   "version": "3.7.6"
  }
 },
 "nbformat": 4,
 "nbformat_minor": 4
}
